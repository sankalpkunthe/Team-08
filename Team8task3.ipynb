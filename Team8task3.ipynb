{
  "cells": [
    {
      "cell_type": "code",
      "execution_count": 4,
      "metadata": {
        "id": "Wg6rIYg17-o4"
      },
      "outputs": [],
      "source": [
        "\n",
        "from sentence_transformers import SentenceTransformer, util\n",
        "import torch\n",
        "import numpy as np\n",
        "import re\n",
        "import pandas as pd"
      ]
    },
    {
      "cell_type": "code",
      "source": [
        "# Function to clean captions\n",
        "def clean_caption(text):\n",
        "    \"\"\"\n",
        "    Preprocesses a text string:\n",
        "    - Converts to lowercase\n",
        "    - Removes URLs\n",
        "    - Removes special characters\n",
        "    \"\"\"\n",
        "    text = text.lower()\n",
        "    text = re.sub(r'http\\S+', '', text)          # Remove links\n",
        "    text = re.sub(r'[^a-zA-Z0-9\\s]', '', text)  # Remove special chars\n",
        "    return text.strip()"
      ],
      "metadata": {
        "id": "HFay2r4jdlX8"
      },
      "execution_count": 5,
      "outputs": []
    },
    {
      "cell_type": "code",
      "source": [
        "# Sample reel captions\n",
        "reel_captions = [\n",
        "    \"Funny cat fails compilation\",\n",
        "    \"Cat funny video\",\n",
        "    \"Cooking tutorial: pasta carbonara\",\n",
        "    \"Football skills and goals\",\n",
        "    \"Python programming tips for beginners\",\n",
        "    \"Morning yoga and meditation routine\",\n",
        "    \"Travel vlog: exploring Paris streets\",\n",
        "    \"Workout motivation for gym lovers\",\n",
        "    \"ASMR satisfying sounds\",\n",
        "    \"Street food review in Delhi\"\n",
        "]\n",
        "\n",
        "# Apply preprocessing\n",
        "reel_captions = [clean_caption(caption) for caption in reel_captions]"
      ],
      "metadata": {
        "id": "ohHVn49vdnWX"
      },
      "execution_count": 6,
      "outputs": []
    },
    {
      "cell_type": "code",
      "source": [
        "# Load a pre-trained Sentence Transformer model\n",
        "model = SentenceTransformer('all-MiniLM-L6-v2')\n",
        "# Generate embeddings for all captions\n",
        "embeddings = model.encode(reel_captions, convert_to_tensor=True)\n",
        "\n",
        "# Compute cosine similarity between all pairs\n",
        "similarity_matrix = util.cos_sim(embeddings, embeddings).cpu().numpy()"
      ],
      "metadata": {
        "id": "gOFLsWtDdsWo",
        "colab": {
          "base_uri": "https://localhost:8080/",
          "height": 493,
          "referenced_widgets": [
            "4ec1b41f9cf94e17af125023677c0f27",
            "c373ceeef6c14094b41e4a3946a92297",
            "1922fdcead464fc395120ae82e322f8f",
            "d1baadaf2d17465caed12a0d70de7353",
            "c507f5fb41ed43aaba54038c85f8f00a",
            "a398ea449fab4fcc8ca5100eed206e83",
            "5fe8234b42c14070964b3e6687efcbb9",
            "e35962ecbd5649a8923d8cf1383ed128",
            "3e6fb4667a0c45ca9306135b8052d6af",
            "d0cbcc02aca245b0a63c54f49de3a126",
            "7fd25ca7b96f476a993b20201c4f69bf",
            "a731f700e2f64a66b3c9aa142382e5b0",
            "6c54c88e8806475e9be80af23a87aeff",
            "09cfa6df11974e35a2dd828f6d2e9ac7",
            "6a0787b3a4834b4a8c04d20400fbf037",
            "72f33fd02b9f47d8b3bb82dc936d6764",
            "f75cd1a72549499597e622b37d9ebbce",
            "25c45292938f4cdc9e8a221ce5a054e5",
            "19cf650ab9b44ae296884dae766666ed",
            "68f0723dcdcf4141aa62df5a109e7d58",
            "4efb4842669b4fa0aa80054bd7804a52",
            "30854b67e39d4f59b0f55e4f746fd90e",
            "a8d7785a285b459c9c62c468f6cad7e9",
            "6040a79c581941b5b90c15c18c845edd",
            "59d9549f29c046ca9dac4c1b038f56e5",
            "f3245a9180e54b2c885b10bcaffc64a8",
            "af44c539eabd45a395092f0687387a5e",
            "52c7aaa1354f48aea189353f84ce82d1",
            "90d61d215acb4c39818534ec18b8a522",
            "47718551ee424dbe8a1b9c6d6eda291a",
            "94da267efe9e4938b25cab422ecff0b3",
            "4aee99080a1a426e919a73fb7ebf52ab",
            "bd471a235d9548bda0c5d8e482cf47ff",
            "ac85331f901e45f3b69fd7164891bd0c",
            "2f834d593d7e4cef8b435c3279ef6b76",
            "459b0cc1f1ff49708ab69f43ef743f00",
            "c67f5d46b2384d769eded29de5f42e94",
            "596bf337a0ba4669ae18385d9ebb1c6b",
            "7b1c873335624c98b402ac183b45e0dd",
            "1f093a547f454ee385eabd0ac5ef312d",
            "8ede865e5bec43aa86a408fa3996ad35",
            "41e73dd451454b0a86b1dafed7e4c9fd",
            "a63cdad1141a4a15ba8959d9cbd7f6ba",
            "6c3e9291877e4a1fba7a594ece116acd",
            "94a8460849f24f26b1fa6641a8275ad3",
            "eb1ca8d2ce5e4a1b8e058a2015cbcfe3",
            "54ca418287b5486981a8bb1932779c03",
            "7072f38871944c998fab2494b137dc20",
            "917bf3df6ee841b8aa9aacb869fc67fc",
            "ff0da3017c2346ffbf614f4994c10930",
            "3e26b5214a614a4f9f8267a89bc76bc0",
            "f6729f5b17fe4201906b1fd6416ed4bb",
            "07b04f3708d8488eb75b5ae757b7cbce",
            "cb204bf720a245979cbf00e8be43cfa8",
            "74447dc805ff47f9bb82b2655607245a",
            "65122296bbe948a19fb825d48ea8dfa3",
            "066dcc6f786347bd99d375a9ccb0f7e3",
            "098428c1cdfc494ab2942cf7b0265d80",
            "290f08be60b34b32a8f27122df0bf8b0",
            "0911ad2716774ac3bef7b876337088bf",
            "ba34c618d4d3428d9f1f49d3e462aadd",
            "969a064c2c854da186e2c996faae3cb2",
            "01b5b6cb3c6c4bfdb9fa690074965665",
            "9d5855e48d9c44eb9001ece5f3c816ca",
            "97c5c492e8d54389ab01a622bd33cd58",
            "53dac46a3173431f820c08f333136320",
            "c914fd177e0b4143a1d92a5e7dc553e2",
            "8ee48d4b1a04407fadc5fa467a9ae337",
            "9a60fde152f945548d1cbd1970d06c3e",
            "d5548a2c79184c4aadb8ea0610bbdeec",
            "cae4d20bcb3b44eb96843f9be0bdabaa",
            "2a7f6e9df5274bc6a194711410440beb",
            "9ef87062cd054dfe9042c2a526a71b8c",
            "5cc30d863ade4534b36081782c4207a0",
            "dac2a64655c24cb1873578773e426811",
            "90cde929bde1438cbba2653bad685d1d",
            "e8d0d4600279407b83066f59f2040d57",
            "3d1754c79f9e4d3991c6bfae51aab09d",
            "062f7e257104424286ef16b8603afe32",
            "15a90d9b86df4edfa89d38f96073ccf5",
            "7aabbb9ddd654235a56452d86e1b7990",
            "e3d928b0d29e40619e1f3f4fef86866e",
            "9b58db33c7094a51aa58b3569444848a",
            "0b2bb5d644a94592820165e1eeb091f8",
            "1c0c06e550474330a20cf0ac52810f17",
            "a80330bccc284c8481247a32a6622b8a",
            "3fbe6c795447415c8549fd05de337e04",
            "9e41e61975da48d6819c4e01981d4a35",
            "f57af5e8ab634a85bc4f617f257d2e6a",
            "ecc70af7b2344a73992f26236dd04654",
            "d84fb67eeb4c48aea5a2243db5f845fd",
            "079a8434d7264b81911becec0a108f67",
            "5b63d25ded274cada3bcae55891f8677",
            "28804598dba8469da8e5ed8975eb72a5",
            "af41be6aeb284fa2a4cfe89bd32482d0",
            "b357f1757e214110b422d75ce4121097",
            "ca784302c0964ed6852baaca4e1adee2",
            "47b72618ec514212b2300f6747b0e763",
            "5fe752137e3546c8a14168d10499900b",
            "42b66105c14c45fc98543db363ea6b85",
            "bc368202b7334b6da4a239f34b7504f7",
            "de192afa0b6a4ad9a818dcce23cbfcbd",
            "61d2941c342f42fb8056871cd8234227",
            "f9e0609653b14be091f58da0eaf80b6f",
            "955419f99bbd478ebc4dab2a47cb0a7c",
            "6f4e2bb14be043d1b6404bdef1eea7b5",
            "868c5bccf0584cdf9060ba809424d94f",
            "3c378dabe79440b88354e4aaf5329302",
            "3bb1aa71ed654145ba5e4684992604da",
            "886b86952eb04b59a2233be2a0ba3a5d",
            "a59f52835fe245cea39269555c884823",
            "8ad57e0a36ad45599901ace429c55b22",
            "6577a173a59540d0a3b6584c7dcefba6",
            "b734aeb351b14009b4046971cac142f5",
            "a9a2030b28dd459488886c0ee6e56dec",
            "2f667640cb1d45b083e5d37914a376ec",
            "215ef4805347439082f0085ea0155bf4",
            "87891557a2f54b0fb23f59b8de7a4245",
            "071372ab0f3b40549770e152c618346c",
            "826c9d3f0f9c4db7ab94e56cc01b0fdc",
            "2bf4999de3d546cca4ad7611aa943400"
          ]
        },
        "outputId": "bbf2132a-44ed-4b9d-a903-cc78d964d21f"
      },
      "execution_count": 7,
      "outputs": [
        {
          "output_type": "stream",
          "name": "stderr",
          "text": [
            "/usr/local/lib/python3.12/dist-packages/huggingface_hub/utils/_auth.py:94: UserWarning: \n",
            "The secret `HF_TOKEN` does not exist in your Colab secrets.\n",
            "To authenticate with the Hugging Face Hub, create a token in your settings tab (https://huggingface.co/settings/tokens), set it as secret in your Google Colab and restart your session.\n",
            "You will be able to reuse this secret in all of your notebooks.\n",
            "Please note that authentication is recommended but still optional to access public models or datasets.\n",
            "  warnings.warn(\n"
          ]
        },
        {
          "output_type": "display_data",
          "data": {
            "text/plain": [
              "modules.json:   0%|          | 0.00/349 [00:00<?, ?B/s]"
            ],
            "application/vnd.jupyter.widget-view+json": {
              "version_major": 2,
              "version_minor": 0,
              "model_id": "4ec1b41f9cf94e17af125023677c0f27"
            }
          },
          "metadata": {}
        },
        {
          "output_type": "display_data",
          "data": {
            "text/plain": [
              "config_sentence_transformers.json:   0%|          | 0.00/116 [00:00<?, ?B/s]"
            ],
            "application/vnd.jupyter.widget-view+json": {
              "version_major": 2,
              "version_minor": 0,
              "model_id": "a731f700e2f64a66b3c9aa142382e5b0"
            }
          },
          "metadata": {}
        },
        {
          "output_type": "display_data",
          "data": {
            "text/plain": [
              "README.md: 0.00B [00:00, ?B/s]"
            ],
            "application/vnd.jupyter.widget-view+json": {
              "version_major": 2,
              "version_minor": 0,
              "model_id": "a8d7785a285b459c9c62c468f6cad7e9"
            }
          },
          "metadata": {}
        },
        {
          "output_type": "display_data",
          "data": {
            "text/plain": [
              "sentence_bert_config.json:   0%|          | 0.00/53.0 [00:00<?, ?B/s]"
            ],
            "application/vnd.jupyter.widget-view+json": {
              "version_major": 2,
              "version_minor": 0,
              "model_id": "ac85331f901e45f3b69fd7164891bd0c"
            }
          },
          "metadata": {}
        },
        {
          "output_type": "display_data",
          "data": {
            "text/plain": [
              "config.json:   0%|          | 0.00/612 [00:00<?, ?B/s]"
            ],
            "application/vnd.jupyter.widget-view+json": {
              "version_major": 2,
              "version_minor": 0,
              "model_id": "94a8460849f24f26b1fa6641a8275ad3"
            }
          },
          "metadata": {}
        },
        {
          "output_type": "display_data",
          "data": {
            "text/plain": [
              "model.safetensors:   0%|          | 0.00/90.9M [00:00<?, ?B/s]"
            ],
            "application/vnd.jupyter.widget-view+json": {
              "version_major": 2,
              "version_minor": 0,
              "model_id": "65122296bbe948a19fb825d48ea8dfa3"
            }
          },
          "metadata": {}
        },
        {
          "output_type": "display_data",
          "data": {
            "text/plain": [
              "tokenizer_config.json:   0%|          | 0.00/350 [00:00<?, ?B/s]"
            ],
            "application/vnd.jupyter.widget-view+json": {
              "version_major": 2,
              "version_minor": 0,
              "model_id": "c914fd177e0b4143a1d92a5e7dc553e2"
            }
          },
          "metadata": {}
        },
        {
          "output_type": "display_data",
          "data": {
            "text/plain": [
              "vocab.txt: 0.00B [00:00, ?B/s]"
            ],
            "application/vnd.jupyter.widget-view+json": {
              "version_major": 2,
              "version_minor": 0,
              "model_id": "3d1754c79f9e4d3991c6bfae51aab09d"
            }
          },
          "metadata": {}
        },
        {
          "output_type": "display_data",
          "data": {
            "text/plain": [
              "tokenizer.json: 0.00B [00:00, ?B/s]"
            ],
            "application/vnd.jupyter.widget-view+json": {
              "version_major": 2,
              "version_minor": 0,
              "model_id": "f57af5e8ab634a85bc4f617f257d2e6a"
            }
          },
          "metadata": {}
        },
        {
          "output_type": "display_data",
          "data": {
            "text/plain": [
              "special_tokens_map.json:   0%|          | 0.00/112 [00:00<?, ?B/s]"
            ],
            "application/vnd.jupyter.widget-view+json": {
              "version_major": 2,
              "version_minor": 0,
              "model_id": "42b66105c14c45fc98543db363ea6b85"
            }
          },
          "metadata": {}
        },
        {
          "output_type": "display_data",
          "data": {
            "text/plain": [
              "config.json:   0%|          | 0.00/190 [00:00<?, ?B/s]"
            ],
            "application/vnd.jupyter.widget-view+json": {
              "version_major": 2,
              "version_minor": 0,
              "model_id": "a59f52835fe245cea39269555c884823"
            }
          },
          "metadata": {}
        }
      ]
    },
    {
      "cell_type": "code",
      "source": [
        "# Show numbered similarity matrix\n",
        "print(\"\\nCosine Similarity Matrix (Numbered)\")\n",
        "matrix_df = pd.DataFrame(similarity_matrix,\n",
        "                         index=[f\"{i}\" for i in range(len(reel_captions))],\n",
        "                         columns=[f\"{j}\" for j in range(len(reel_captions))])\n",
        "print(matrix_df.round(2))\n",
        "\n",
        "print(\"\\nCaption Index Reference:\")\n",
        "for i, caption in enumerate(reel_captions):\n",
        "    print(f\"{i}: {caption}\")"
      ],
      "metadata": {
        "colab": {
          "base_uri": "https://localhost:8080/"
        },
        "id": "tdBuOPxXd2vq",
        "outputId": "fc0ecd1e-39e5-43d8-b1a8-d6150b44b06d"
      },
      "execution_count": 8,
      "outputs": [
        {
          "output_type": "stream",
          "name": "stdout",
          "text": [
            "\n",
            "Cosine Similarity Matrix (Numbered)\n",
            "      0     1     2     3     4     5     6     7     8     9\n",
            "0  1.00  0.64  0.13 -0.05  0.09 -0.04  0.05 -0.06  0.16  0.01\n",
            "1  0.64  1.00  0.12  0.08  0.06  0.00  0.14  0.00  0.13  0.03\n",
            "2  0.13  0.12  1.00  0.06  0.21  0.06  0.06  0.04  0.15  0.28\n",
            "3 -0.05  0.08  0.06  1.00  0.11  0.05  0.02  0.20 -0.02  0.01\n",
            "4  0.09  0.06  0.21  0.11  1.00  0.03  0.10  0.04  0.06 -0.01\n",
            "5 -0.04  0.00  0.06  0.05  0.03  1.00 -0.01  0.22  0.05  0.03\n",
            "6  0.05  0.14  0.06  0.02  0.10 -0.01  1.00  0.06  0.03  0.20\n",
            "7 -0.06  0.00  0.04  0.20  0.04  0.22  0.06  1.00  0.01 -0.05\n",
            "8  0.16  0.13  0.15 -0.02  0.06  0.05  0.03  0.01  1.00  0.08\n",
            "9  0.01  0.03  0.28  0.01 -0.01  0.03  0.20 -0.05  0.08  1.00\n",
            "\n",
            "Caption Index Reference:\n",
            "0: funny cat fails compilation\n",
            "1: cat funny video\n",
            "2: cooking tutorial pasta carbonara\n",
            "3: football skills and goals\n",
            "4: python programming tips for beginners\n",
            "5: morning yoga and meditation routine\n",
            "6: travel vlog exploring paris streets\n",
            "7: workout motivation for gym lovers\n",
            "8: asmr satisfying sounds\n",
            "9: street food review in delhi\n"
          ]
        }
      ]
    },
    {
      "cell_type": "code",
      "source": [
        "for i in range(len(reel_captions)):\n",
        "    watched_embedding = embeddings[i]\n",
        "    similarities = util.cos_sim(watched_embedding, embeddings)[0]\n",
        "    similarities[i] = -1 #to exclude itself\n",
        "\n",
        "    # Get the index of the most similar caption\n",
        "    top_index = torch.argmax(similarities).item()\n",
        "\n",
        "    print(f\"\\nBest Match for: '{reel_captions[i]}'\")\n",
        "    print(f\"→ Recommendation: '{reel_captions[top_index]}'\")\n",
        "    print(f\"→ Similarity Score: {similarities[top_index].item():.2f}\")\n"
      ],
      "metadata": {
        "colab": {
          "base_uri": "https://localhost:8080/"
        },
        "id": "09D_Oe0fd6V1",
        "outputId": "5ee9deea-345e-4873-ccef-455f06f02ec4"
      },
      "execution_count": 9,
      "outputs": [
        {
          "output_type": "stream",
          "name": "stdout",
          "text": [
            "\n",
            "Best Match for: 'funny cat fails compilation'\n",
            "→ Recommendation: 'cat funny video'\n",
            "→ Similarity Score: 0.64\n",
            "\n",
            "Best Match for: 'cat funny video'\n",
            "→ Recommendation: 'funny cat fails compilation'\n",
            "→ Similarity Score: 0.64\n",
            "\n",
            "Best Match for: 'cooking tutorial pasta carbonara'\n",
            "→ Recommendation: 'street food review in delhi'\n",
            "→ Similarity Score: 0.28\n",
            "\n",
            "Best Match for: 'football skills and goals'\n",
            "→ Recommendation: 'workout motivation for gym lovers'\n",
            "→ Similarity Score: 0.20\n",
            "\n",
            "Best Match for: 'python programming tips for beginners'\n",
            "→ Recommendation: 'cooking tutorial pasta carbonara'\n",
            "→ Similarity Score: 0.21\n",
            "\n",
            "Best Match for: 'morning yoga and meditation routine'\n",
            "→ Recommendation: 'workout motivation for gym lovers'\n",
            "→ Similarity Score: 0.22\n",
            "\n",
            "Best Match for: 'travel vlog exploring paris streets'\n",
            "→ Recommendation: 'street food review in delhi'\n",
            "→ Similarity Score: 0.20\n",
            "\n",
            "Best Match for: 'workout motivation for gym lovers'\n",
            "→ Recommendation: 'morning yoga and meditation routine'\n",
            "→ Similarity Score: 0.22\n",
            "\n",
            "Best Match for: 'asmr satisfying sounds'\n",
            "→ Recommendation: 'funny cat fails compilation'\n",
            "→ Similarity Score: 0.16\n",
            "\n",
            "Best Match for: 'street food review in delhi'\n",
            "→ Recommendation: 'cooking tutorial pasta carbonara'\n",
            "→ Similarity Score: 0.28\n"
          ]
        }
      ]
    }
  ],
  "metadata": {
    "accelerator": "GPU",
    "colab": {
      "gpuType": "T4",
      "provenance": []
    },
    "kernelspec": {
      "display_name": "Python 3",
      "name": "python3"
    },
    "language_info": {
      "name": "python"
    }
  },
  "nbformat": 4,
  "nbformat_minor": 0
}