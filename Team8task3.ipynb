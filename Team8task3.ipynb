{
  "cells": [
    {
      "cell_type": "code",
      "execution_count": 2,
      "metadata": {
        "id": "Wg6rIYg17-o4"
      },
      "outputs": [],
      "source": [
        "\n",
        "from sentence_transformers import SentenceTransformer, util\n",
        "import torch\n",
        "import numpy as np\n",
        "import re\n",
        "import pandas as pd"
      ]
    },
    {
      "cell_type": "code",
      "source": [
        "# 2️⃣ Optional: Function to clean captions\n",
        "def clean_caption(text):\n",
        "    \"\"\"\n",
        "    Preprocesses a text string:\n",
        "    - Converts to lowercase\n",
        "    - Removes URLs\n",
        "    - Removes special characters\n",
        "    \"\"\"\n",
        "    text = text.lower()\n",
        "    text = re.sub(r'http\\S+', '', text)          # Remove links\n",
        "    text = re.sub(r'[^a-zA-Z0-9\\s]', '', text)  # Remove special chars\n",
        "    return text.strip()"
      ],
      "metadata": {
        "id": "HFay2r4jdlX8"
      },
      "execution_count": 3,
      "outputs": []
    },
    {
      "cell_type": "code",
      "source": [
        "# 3️⃣ Sample reel captions\n",
        "reel_captions = [\n",
        "    \"Funny cat fails compilation\",\n",
        "    \"Cat funny video\",\n",
        "    \"Cooking tutorial: pasta carbonara\",\n",
        "    \"Football skills and goals\",\n",
        "    \"Python programming tips for beginners\",\n",
        "    \"Morning yoga and meditation routine\",\n",
        "    \"Travel vlog: exploring Paris streets\",\n",
        "    \"Workout motivation for gym lovers\",\n",
        "    \"ASMR satisfying sounds\",\n",
        "    \"Street food review in Delhi\"\n",
        "]\n",
        "\n",
        "# Apply preprocessing (optional)\n",
        "reel_captions = [clean_caption(caption) for caption in reel_captions]"
      ],
      "metadata": {
        "id": "ohHVn49vdnWX"
      },
      "execution_count": 4,
      "outputs": []
    },
    {
      "cell_type": "code",
      "source": [
        "# 4️⃣ Load a pre-trained Sentence Transformer model\n",
        "model = SentenceTransformer('all-MiniLM-L6-v2')\n",
        "# 5️⃣ Generate embeddings for all captions\n",
        "embeddings = model.encode(reel_captions, convert_to_tensor=True)\n",
        "\n",
        "# 6️⃣ Compute cosine similarity between all pairs\n",
        "similarity_matrix = util.cos_sim(embeddings, embeddings).cpu().numpy()"
      ],
      "metadata": {
        "id": "gOFLsWtDdsWo",
        "colab": {
          "base_uri": "https://localhost:8080/",
          "height": 493,
          "referenced_widgets": [
            "df700aaaf2534cdd861fb1b440deadfe",
            "d451d63a48424b1186592f14e449a983",
            "b207da89d9ef4d3b834d9c32be1f1df1",
            "1b1c0a2adf9b4e61ac6114f27bbd941b",
            "da96d581b136472684f3d4d795013c3b",
            "a77f4dd7af55453596abf7b8770d4541",
            "22ae82fcfc4f4286b17da2da1a6c9c53",
            "2504cd2a01854177bfc4e707aee156ac",
            "3693a82239cd4893aa0fa12a6e7ec8d2",
            "ad6de215eb7041379c2edb99a59a04c0",
            "129e515b0ed940eeb40badc7300beaf4",
            "e1b74a83357d4a989a937fde7e7d932a",
            "f4e8abf8716242918dedef9e4e436f8a",
            "04bde7beb02548ef9d924b1bbd6dc76b",
            "a1eecb00ae1b43e3850de837f3796679",
            "3f6384cf6242412594ac1407470ced39",
            "0a0b3add9a84445f9d38a5eb32ad222d",
            "59a9b1caa28740fa91a285b042671635",
            "356ac1871a40465c8f9cac7a61f74ade",
            "179aebd00168402da99b1fca6e5b21c1",
            "b1fad91f28e1443cb90815cf99710885",
            "36333349f9014fa79897e715aa2b65e7",
            "0d49fb451f3e4c69818b3bc5e3577f95",
            "d3cef565d135488fa4f9ddb08b1026fe",
            "67963384778340b18d48763b632a700a",
            "c33a0d64b21445ca9ad72997a1a6d9ca",
            "f6c61732c6e741b9b8cf925ef222bd76",
            "c676f8bcd5074b71972456597d1dfe9f",
            "47a73863b67b4148a5c77d18be5917fe",
            "ea8084cd44014af68299d3a28c53dc3e",
            "4f782f64423c4ba1b3090b315f35a802",
            "21e872046c1e42e192775cbcee5dd438",
            "02e1af006ddd4822b8829f82e7ca839b",
            "bb7baf469c40439d8638f88eec81722e",
            "355bca29f49d4da4923f063e0a2d7b62",
            "ec84e1e29d4b4bad95ae3be3beaf8399",
            "37b12722e4be4a01a4451f63dc5d2453",
            "7e6f406857774e5297b9bd9d341f049b",
            "6f63eb89715440ab9ab350d6c3761b57",
            "6ccae942785240a48548bae665cd8c44",
            "033f6a35941249c5aa2e7a5299ff8900",
            "5c06142b610e47de995ae4c7d8135046",
            "332643bbcee6418a988f8d6b03c3dfad",
            "72662e99120d4bc8bd3f532982d11acc",
            "f1c1993809c54eb7b4e5019c2aad2304",
            "9947befd90b94faca9d412f3a66dd7a2",
            "1f20b9c89da44039acead16bbc3cf59e",
            "c4964274ba6d473294a4ffb2280ec3b7",
            "590be93ca30b4e3391b9073b1e6c9f5c",
            "8a9e7e86e39b4fe19a5d0550f09444b9",
            "d687e1cbf2274442b58c3eee3fe1fd45",
            "7d282511865543ae8fb0a4740df341c6",
            "6f9f16a46b224e9bbc32986bb6d98c84",
            "e10acb4b433b4daf997929cba742ae5e",
            "a1ac97154df542b68eea4bb028c7c639",
            "f47120a7d0414f78af4146eee9a9ec0e",
            "0bf05035c59c4921949ca94fe0bcc65a",
            "1b5740cc2615485ba50c17a38f11fe34",
            "2c57929b83114aea8001590fbd43afdb",
            "e8ee40980be442f79b521f79f19afaca",
            "47d243f35b4e410cb730dc799e7509ba",
            "6afb856d556244999db5c9be339744da",
            "8b990005ba9445038c1b652db0bdf46d",
            "41c06fc8dcad4f4984c8d1d780c51a08",
            "f02f7f3da8c6404b846227db8e9c6aa8",
            "79febef5ebf24474969365c2e7ec7da6",
            "1fc55eb6fb024435acb0a0b3c201f75b",
            "b336f7812fe54227ba689095e2d67461",
            "4bca87d4cac84079851309ae95fd8b7d",
            "f266e083371f440cb30ca2fdfa7bb7cd",
            "ea54c4bca8a743f2be2e7d8c13c789f8",
            "1cd53c43769c4ddb804e349c91f0f127",
            "4c8593323ac841ddb14fa88d29286c05",
            "fc346da6d6244e46abf6e0aee658c220",
            "a09f68592abb47ebbe83fb8675d89f91",
            "bfcc8d136851496aafc496f4211a1161",
            "9f3684799aec443693f42307488e6889",
            "13a920f8b94b4779a7d1fef625c8e306",
            "d4f341a78463400b9b5423495259e232",
            "da79f424fe5a4f559c0f219981b8fb1b",
            "d0db5ff788fa47f1b79b0caabd72d149",
            "b69de88ca1874fb1a96b706eef36c9c1",
            "b0ca4b75ecc0416eb32a20081ef787d3",
            "1db5768be5884fb78a87ab1a89129e31",
            "841e72dcf4dd4178a90be61fd73129a2",
            "1a83f4be519e4bb4928174ad7ddb2f50",
            "a6d22de45fa141d18c3a4a78ee0ddf16",
            "d0ee7c2f7abd4c128c7613f08e19f54b",
            "eadbc95f49d64fd4a8edbe1a3660e673",
            "290ac33cd98f4e8e93bafb944bfdb7d2",
            "fcb3cb2a54584d009c5f908f9fa3f537",
            "f4fe98767d764f96abf1194141f90722",
            "89555136eeb2488e94b5d9ff1e7636b6",
            "eaf51aed64914ac4b21bf07d4fb73c13",
            "9ea8701466954d6face4b5665a2e4923",
            "7a755535f1de426c93fe8f1293024eb7",
            "606fa11fea0a47c391c32dece90f617a",
            "e2db85d051b64464ac97d3c3063a762c",
            "94a592678e9f413896e7dbccb65752ca",
            "585dc3c5fb5f46699b23701815235198",
            "80388192d3674c168878aeac321b2dd9",
            "c71949a89c184b53a99e98e6dd2ed37e",
            "03c41977a40646239564e7a7d3e9a0d8",
            "b536ebfdd08b4c61a8c00f8067b925ef",
            "76f4148f557b4bbd8aeda0ef1feb303a",
            "78ada00ad9d74fe8bcb75d88728e2516",
            "2c1a0ba4bfaf4763897e843511e82872",
            "0fb2b40152fc4e46b47ef721375a3cd7",
            "656db9b65f174ffb9fda3af0be9b0872",
            "c909b2ca0a9b40c3a72a0c3dd63fe7d9",
            "ec0121301255434499dd1ae35f339094",
            "c7e43f6fb26f4c18927d348fb431097c",
            "9d5e2b5653f54655b25b4bb69f0b5d27",
            "3aecdf2fa3d5492297c1e7f38fffc549",
            "1f9670bf9fea4cc0bd659b6245397750",
            "ca43481297c34966885d8dbc11ea948a",
            "8c1340739b9a40b4a892c5484f300907",
            "3287e21477e54c7cb23cb56b1f4cb30d",
            "820142404e7f4365b0c4576804b3c3ea",
            "35d61f634c4c4f62b9b0539f7ab4551c",
            "a75e0035bbda48d999a148a3b58c8059"
          ]
        },
        "outputId": "6376e3c2-646e-4055-8378-8649017e6f1b"
      },
      "execution_count": 5,
      "outputs": [
        {
          "output_type": "stream",
          "name": "stderr",
          "text": [
            "/usr/local/lib/python3.12/dist-packages/huggingface_hub/utils/_auth.py:94: UserWarning: \n",
            "The secret `HF_TOKEN` does not exist in your Colab secrets.\n",
            "To authenticate with the Hugging Face Hub, create a token in your settings tab (https://huggingface.co/settings/tokens), set it as secret in your Google Colab and restart your session.\n",
            "You will be able to reuse this secret in all of your notebooks.\n",
            "Please note that authentication is recommended but still optional to access public models or datasets.\n",
            "  warnings.warn(\n"
          ]
        },
        {
          "output_type": "display_data",
          "data": {
            "text/plain": [
              "modules.json:   0%|          | 0.00/349 [00:00<?, ?B/s]"
            ],
            "application/vnd.jupyter.widget-view+json": {
              "version_major": 2,
              "version_minor": 0,
              "model_id": "df700aaaf2534cdd861fb1b440deadfe"
            }
          },
          "metadata": {}
        },
        {
          "output_type": "display_data",
          "data": {
            "text/plain": [
              "config_sentence_transformers.json:   0%|          | 0.00/116 [00:00<?, ?B/s]"
            ],
            "application/vnd.jupyter.widget-view+json": {
              "version_major": 2,
              "version_minor": 0,
              "model_id": "e1b74a83357d4a989a937fde7e7d932a"
            }
          },
          "metadata": {}
        },
        {
          "output_type": "display_data",
          "data": {
            "text/plain": [
              "README.md: 0.00B [00:00, ?B/s]"
            ],
            "application/vnd.jupyter.widget-view+json": {
              "version_major": 2,
              "version_minor": 0,
              "model_id": "0d49fb451f3e4c69818b3bc5e3577f95"
            }
          },
          "metadata": {}
        },
        {
          "output_type": "display_data",
          "data": {
            "text/plain": [
              "sentence_bert_config.json:   0%|          | 0.00/53.0 [00:00<?, ?B/s]"
            ],
            "application/vnd.jupyter.widget-view+json": {
              "version_major": 2,
              "version_minor": 0,
              "model_id": "bb7baf469c40439d8638f88eec81722e"
            }
          },
          "metadata": {}
        },
        {
          "output_type": "display_data",
          "data": {
            "text/plain": [
              "config.json:   0%|          | 0.00/612 [00:00<?, ?B/s]"
            ],
            "application/vnd.jupyter.widget-view+json": {
              "version_major": 2,
              "version_minor": 0,
              "model_id": "f1c1993809c54eb7b4e5019c2aad2304"
            }
          },
          "metadata": {}
        },
        {
          "output_type": "display_data",
          "data": {
            "text/plain": [
              "model.safetensors:   0%|          | 0.00/90.9M [00:00<?, ?B/s]"
            ],
            "application/vnd.jupyter.widget-view+json": {
              "version_major": 2,
              "version_minor": 0,
              "model_id": "f47120a7d0414f78af4146eee9a9ec0e"
            }
          },
          "metadata": {}
        },
        {
          "output_type": "display_data",
          "data": {
            "text/plain": [
              "tokenizer_config.json:   0%|          | 0.00/350 [00:00<?, ?B/s]"
            ],
            "application/vnd.jupyter.widget-view+json": {
              "version_major": 2,
              "version_minor": 0,
              "model_id": "1fc55eb6fb024435acb0a0b3c201f75b"
            }
          },
          "metadata": {}
        },
        {
          "output_type": "display_data",
          "data": {
            "text/plain": [
              "vocab.txt: 0.00B [00:00, ?B/s]"
            ],
            "application/vnd.jupyter.widget-view+json": {
              "version_major": 2,
              "version_minor": 0,
              "model_id": "13a920f8b94b4779a7d1fef625c8e306"
            }
          },
          "metadata": {}
        },
        {
          "output_type": "display_data",
          "data": {
            "text/plain": [
              "tokenizer.json: 0.00B [00:00, ?B/s]"
            ],
            "application/vnd.jupyter.widget-view+json": {
              "version_major": 2,
              "version_minor": 0,
              "model_id": "eadbc95f49d64fd4a8edbe1a3660e673"
            }
          },
          "metadata": {}
        },
        {
          "output_type": "display_data",
          "data": {
            "text/plain": [
              "special_tokens_map.json:   0%|          | 0.00/112 [00:00<?, ?B/s]"
            ],
            "application/vnd.jupyter.widget-view+json": {
              "version_major": 2,
              "version_minor": 0,
              "model_id": "585dc3c5fb5f46699b23701815235198"
            }
          },
          "metadata": {}
        },
        {
          "output_type": "display_data",
          "data": {
            "text/plain": [
              "config.json:   0%|          | 0.00/190 [00:00<?, ?B/s]"
            ],
            "application/vnd.jupyter.widget-view+json": {
              "version_major": 2,
              "version_minor": 0,
              "model_id": "ec0121301255434499dd1ae35f339094"
            }
          },
          "metadata": {}
        }
      ]
    },
    {
      "cell_type": "code",
      "source": [
        "# 🔹 NEW: Show numbered similarity matrix\n",
        "print(\"\\nCosine Similarity Matrix (Numbered)\")\n",
        "matrix_df = pd.DataFrame(similarity_matrix,\n",
        "                         index=[f\"{i}\" for i in range(len(reel_captions))],\n",
        "                         columns=[f\"{j}\" for j in range(len(reel_captions))])\n",
        "print(matrix_df.round(2))\n",
        "\n",
        "print(\"\\nCaption Index Reference:\")\n",
        "for i, caption in enumerate(reel_captions):\n",
        "    print(f\"{i}: {caption}\")"
      ],
      "metadata": {
        "colab": {
          "base_uri": "https://localhost:8080/"
        },
        "id": "tdBuOPxXd2vq",
        "outputId": "e9777f89-0827-46ce-e09a-f841735199a0"
      },
      "execution_count": 6,
      "outputs": [
        {
          "output_type": "stream",
          "name": "stdout",
          "text": [
            "\n",
            "===== Cosine Similarity Matrix (Numbered) =====\n",
            "      0     1     2     3     4     5     6     7     8     9\n",
            "0  1.00  0.64  0.13 -0.05  0.09 -0.04  0.05 -0.06  0.16  0.01\n",
            "1  0.64  1.00  0.12  0.08  0.06  0.00  0.14  0.00  0.13  0.03\n",
            "2  0.13  0.12  1.00  0.06  0.21  0.06  0.06  0.04  0.15  0.28\n",
            "3 -0.05  0.08  0.06  1.00  0.11  0.05  0.02  0.20 -0.02  0.01\n",
            "4  0.09  0.06  0.21  0.11  1.00  0.03  0.10  0.04  0.06 -0.01\n",
            "5 -0.04  0.00  0.06  0.05  0.03  1.00 -0.01  0.22  0.05  0.03\n",
            "6  0.05  0.14  0.06  0.02  0.10 -0.01  1.00  0.06  0.03  0.20\n",
            "7 -0.06  0.00  0.04  0.20  0.04  0.22  0.06  1.00  0.01 -0.05\n",
            "8  0.16  0.13  0.15 -0.02  0.06  0.05  0.03  0.01  1.00  0.08\n",
            "9  0.01  0.03  0.28  0.01 -0.01  0.03  0.20 -0.05  0.08  1.00\n",
            "\n",
            "Caption Index Reference:\n",
            "0: funny cat fails compilation\n",
            "1: cat funny video\n",
            "2: cooking tutorial pasta carbonara\n",
            "3: football skills and goals\n",
            "4: python programming tips for beginners\n",
            "5: morning yoga and meditation routine\n",
            "6: travel vlog exploring paris streets\n",
            "7: workout motivation for gym lovers\n",
            "8: asmr satisfying sounds\n",
            "9: street food review in delhi\n"
          ]
        }
      ]
    },
    {
      "cell_type": "code",
      "source": [
        "for i in range(len(reel_captions)):\n",
        "    watched_embedding = embeddings[i]\n",
        "    similarities = util.cos_sim(watched_embedding, embeddings)[0]\n",
        "    similarities[i] = -1 #to exclude itself\n",
        "\n",
        "    # Get the index of the most similar caption\n",
        "    top_index = torch.argmax(similarities).item()\n",
        "\n",
        "    print(f\"\\nBest Match for: '{reel_captions[i]}'\")\n",
        "    print(f\"→ Recommendation: '{reel_captions[top_index]}'\")\n",
        "    print(f\"→ Similarity Score: {similarities[top_index].item():.2f}\")\n"
      ],
      "metadata": {
        "colab": {
          "base_uri": "https://localhost:8080/"
        },
        "id": "09D_Oe0fd6V1",
        "outputId": "e9bc8992-f0bb-4be1-d744-306ebabe74fa"
      },
      "execution_count": 9,
      "outputs": [
        {
          "output_type": "stream",
          "name": "stdout",
          "text": [
            "\n",
            "Best Match for: 'funny cat fails compilation'\n",
            "→ Recommendation: 'cat funny video'\n",
            "→ Similarity Score: 0.64\n",
            "\n",
            "Best Match for: 'cat funny video'\n",
            "→ Recommendation: 'funny cat fails compilation'\n",
            "→ Similarity Score: 0.64\n",
            "\n",
            "Best Match for: 'cooking tutorial pasta carbonara'\n",
            "→ Recommendation: 'street food review in delhi'\n",
            "→ Similarity Score: 0.28\n",
            "\n",
            "Best Match for: 'football skills and goals'\n",
            "→ Recommendation: 'workout motivation for gym lovers'\n",
            "→ Similarity Score: 0.20\n",
            "\n",
            "Best Match for: 'python programming tips for beginners'\n",
            "→ Recommendation: 'cooking tutorial pasta carbonara'\n",
            "→ Similarity Score: 0.21\n",
            "\n",
            "Best Match for: 'morning yoga and meditation routine'\n",
            "→ Recommendation: 'workout motivation for gym lovers'\n",
            "→ Similarity Score: 0.22\n",
            "\n",
            "Best Match for: 'travel vlog exploring paris streets'\n",
            "→ Recommendation: 'street food review in delhi'\n",
            "→ Similarity Score: 0.20\n",
            "\n",
            "Best Match for: 'workout motivation for gym lovers'\n",
            "→ Recommendation: 'morning yoga and meditation routine'\n",
            "→ Similarity Score: 0.22\n",
            "\n",
            "Best Match for: 'asmr satisfying sounds'\n",
            "→ Recommendation: 'funny cat fails compilation'\n",
            "→ Similarity Score: 0.16\n",
            "\n",
            "Best Match for: 'street food review in delhi'\n",
            "→ Recommendation: 'cooking tutorial pasta carbonara'\n",
            "→ Similarity Score: 0.28\n"
          ]
        }
      ]
    }
  ],
  "metadata": {
    "accelerator": "GPU",
    "colab": {
      "gpuType": "T4",
      "provenance": []
    },
    "kernelspec": {
      "display_name": "Python 3",
      "name": "python3"
    },
    "language_info": {
      "name": "python"
    }
  },
  "nbformat": 4,
  "nbformat_minor": 0
}